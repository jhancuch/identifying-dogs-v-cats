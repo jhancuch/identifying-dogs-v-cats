{
 "cells": [
  {
   "cell_type": "markdown",
   "id": "6a9e645a-70d3-4b51-80bd-36e952e5d95c",
   "metadata": {},
   "source": [
    "# Identifying dogs versus cats using RNN Models"
   ]
  },
  {
   "cell_type": "markdown",
   "id": "d1bfad28-92e8-4d56-a053-53162fa57427",
   "metadata": {},
   "source": [
    "The goal is to identify if a picture contains a cat or dog of various kinds and with different backgrounds. This type of identification can be extrapolated to identifying a car in an image or a pedestrian. "
   ]
  },
  {
   "cell_type": "code",
   "execution_count": 39,
   "id": "fe7349bc-a911-4bc8-8179-5063b935adc3",
   "metadata": {},
   "outputs": [],
   "source": [
    "import os, cv2, glob\n",
    "\n",
    "import random\n",
    "import numpy as np\n",
    "import pandas as pd\n",
    "\n",
    "import sklearn.model_selection\n",
    "from sklearn.metrics import classification_report, confusion_matrix, roc_curve, RocCurveDisplay, auc, PrecisionRecallDisplay\n",
    "\n",
    "import tensorflow as tf\n",
    "from tensorflow import keras\n",
    "\n",
    "import matplotlib.pyplot as plt\n",
    "import seaborn as sns"
   ]
  },
  {
   "cell_type": "markdown",
   "id": "ca883cfb-7202-4a05-8aa5-b864cc1a9b83",
   "metadata": {},
   "source": [
    "## Data ingest"
   ]
  },
  {
   "cell_type": "code",
   "execution_count": 3,
   "id": "f898d415-f0e0-40fd-b35a-f8ff1ad86d43",
   "metadata": {},
   "outputs": [],
   "source": [
    "os.chdir('/mnt/c/Users/jwnha/Documents/_School/MSDS/2022 Winter/Machine Learning/Week 8/cnn-identify-dogs-v-cats/data/train/')"
   ]
  },
  {
   "cell_type": "code",
   "execution_count": 4,
   "id": "5af49b6e-2680-406c-bd37-eb24de1112e4",
   "metadata": {},
   "outputs": [],
   "source": [
    "trainLabel = []\n",
    "trainImagePaths = []\n",
    "\n",
    "for infile in glob.glob(\"*.jpg\"):\n",
    "    trainImagePaths.append(infile)\n",
    "    if infile.split('.')[0]=='dog':\n",
    "        trainLabel.append(1)\n",
    "    else:\n",
    "        trainLabel.append(0)"
   ]
  },
  {
   "cell_type": "code",
   "execution_count": 5,
   "id": "3b45433b-0fd4-436c-a62c-0a69c71d6581",
   "metadata": {},
   "outputs": [
    {
     "data": {
      "text/plain": [
       "[0, 0, 0, 0, 0, 0, 0, 0, 0, 0, 0, 0, 0, 0, 0, 0, 0, 0, 0, 0]"
      ]
     },
     "execution_count": 5,
     "metadata": {},
     "output_type": "execute_result"
    }
   ],
   "source": [
    "trainLabel[:20]"
   ]
  },
  {
   "cell_type": "code",
   "execution_count": 6,
   "id": "80014937-ebc0-428e-b793-3f752a3fe36a",
   "metadata": {},
   "outputs": [
    {
     "data": {
      "text/plain": [
       "['cat.0.jpg', 'cat.1.jpg', 'cat.10.jpg', 'cat.100.jpg', 'cat.1000.jpg']"
      ]
     },
     "execution_count": 6,
     "metadata": {},
     "output_type": "execute_result"
    }
   ],
   "source": [
    "trainImagePaths[:5]"
   ]
  },
  {
   "cell_type": "code",
   "execution_count": 7,
   "id": "4db91ef7-23bd-4c90-8a01-bb9cb0739686",
   "metadata": {},
   "outputs": [],
   "source": [
    "os.chdir('/mnt/c/Users/jwnha/Documents/_School/MSDS/2022 Winter/Machine Learning/Week 8/cnn-identify-dogs-v-cats/data/test/')"
   ]
  },
  {
   "cell_type": "code",
   "execution_count": 8,
   "id": "3226b239-8eeb-4fc5-8541-9eb6c9607a24",
   "metadata": {},
   "outputs": [],
   "source": [
    "testImagePaths = []\n",
    "\n",
    "for infile in glob.glob(\"*.jpg\"):\n",
    "    testImagePaths.append(infile)"
   ]
  },
  {
   "cell_type": "code",
   "execution_count": 9,
   "id": "2ab67a19-0d54-4547-a722-d515c8a6e45d",
   "metadata": {},
   "outputs": [
    {
     "data": {
      "text/plain": [
       "['1.jpg', '10.jpg', '100.jpg', '1000.jpg', '10000.jpg']"
      ]
     },
     "execution_count": 9,
     "metadata": {},
     "output_type": "execute_result"
    }
   ],
   "source": [
    "testImagePaths[:5]"
   ]
  },
  {
   "cell_type": "markdown",
   "id": "404b7f12-a255-4d49-b6fd-df534b87a55f",
   "metadata": {},
   "source": [
    "## EDA"
   ]
  },
  {
   "cell_type": "markdown",
   "id": "c6551c36-f002-4ccb-bc5b-63eba2b5df4e",
   "metadata": {},
   "source": [
    "We check if the training set is balanced which is it. When we read in the images, we convert the jpegs to grayscale so we do not need to worry about color."
   ]
  },
  {
   "cell_type": "code",
   "execution_count": 10,
   "id": "39bf3853-ed30-4041-b897-a22bfffa0b62",
   "metadata": {},
   "outputs": [],
   "source": [
    "count_0 = trainLabel.count(0)\n",
    "count_1 = trainLabel.count(1)"
   ]
  },
  {
   "cell_type": "code",
   "execution_count": 11,
   "id": "0cca9efb-2896-484c-bf85-8a5a113684d6",
   "metadata": {},
   "outputs": [
    {
     "data": {
      "text/plain": [
       "12500"
      ]
     },
     "execution_count": 11,
     "metadata": {},
     "output_type": "execute_result"
    }
   ],
   "source": [
    "count_0"
   ]
  },
  {
   "cell_type": "code",
   "execution_count": 12,
   "id": "8332ab58-007e-4cfd-b34c-26d5fb61f6fd",
   "metadata": {},
   "outputs": [
    {
     "data": {
      "text/plain": [
       "12500"
      ]
     },
     "execution_count": 12,
     "metadata": {},
     "output_type": "execute_result"
    }
   ],
   "source": [
    "count_1"
   ]
  },
  {
   "cell_type": "markdown",
   "id": "c829ee23-ad3b-4bbb-880a-f4298415f233",
   "metadata": {},
   "source": [
    "## Model Development"
   ]
  },
  {
   "cell_type": "markdown",
   "id": "51f972d5-7710-409c-90c1-d89d31bbca8b",
   "metadata": {},
   "source": [
    "### Preprocess data"
   ]
  },
  {
   "cell_type": "markdown",
   "id": "47efb953-1803-4404-861b-4168fb1e09f5",
   "metadata": {},
   "source": [
    "In preprocessing, we create the training set by loading the jpegs, converting the images to grayscale, resizing, and standerdizing the values. We also create the dependent variable set by using the name of the picture to determine if the image contains a dog (1) or a cat (0). We follow the exact same steps with the test set except for determining the dependent variable since that is unknown and what we are trying to predict."
   ]
  },
  {
   "cell_type": "code",
   "execution_count": 13,
   "id": "d819a183-b3f6-4ea8-8adf-28efa0c09e3e",
   "metadata": {},
   "outputs": [],
   "source": [
    "def create_train_data(path):\n",
    "    X = []\n",
    "    y = []\n",
    "    for img in os.listdir(path):\n",
    "        img_path = os.path.join(path, img)\n",
    "        img_arr = cv2.imread(img_path, cv2.IMREAD_GRAYSCALE)\n",
    "        img_arr = cv2.resize(img_arr, (128, 128))\n",
    "        img_arr = img_arr / 255.0\n",
    "        cat = np.where(img.split('.')[0] == 'dog', 1, 0)\n",
    "        \n",
    "        X.append(img_arr)\n",
    "        y.append(cat)\n",
    "            \n",
    "    X = np.array(X).reshape(-1, 128, 128, 1)\n",
    "    y = np.array(y)\n",
    "    \n",
    "    return X, y  "
   ]
  },
  {
   "cell_type": "code",
   "execution_count": 14,
   "id": "6e2c2779-33f4-4a14-9d00-72c8675dbace",
   "metadata": {},
   "outputs": [],
   "source": [
    "def create_test_data(path):\n",
    "    X = []\n",
    "    for img in os.listdir(path):\n",
    "        img_path = os.path.join(path, img)\n",
    "        img_arr = cv2.imread(img_path, cv2.IMREAD_GRAYSCALE)\n",
    "        img_arr = cv2.resize(img_arr, (128, 128))\n",
    "        img_arr = img_arr / 255.0\n",
    "        \n",
    "        X.append(img_arr)\n",
    "            \n",
    "    X = np.array(X).reshape(-1, 128, 128, 1)\n",
    "    \n",
    "    return X"
   ]
  },
  {
   "cell_type": "code",
   "execution_count": 15,
   "id": "b3427d7c-7254-419a-94cc-1e9b548cce5f",
   "metadata": {},
   "outputs": [],
   "source": [
    "TRAIN_DIR = '/mnt/c/Users/jwnha/Documents/_School/MSDS/2022 Winter/Machine Learning/Week 8/cnn-identify-dogs-v-cats/data/train/'\n",
    "TEST_DIR = '/mnt/c/Users/jwnha/Documents/_School/MSDS/2022 Winter/Machine Learning/Week 8/cnn-identify-dogs-v-cats/data/test/'"
   ]
  },
  {
   "cell_type": "code",
   "execution_count": 16,
   "id": "48decabb-ba78-4289-8c71-55d81b17a57d",
   "metadata": {},
   "outputs": [],
   "source": [
    "X, y = create_train_data(TRAIN_DIR)"
   ]
  },
  {
   "cell_type": "code",
   "execution_count": 17,
   "id": "8901cc81-f58d-4e96-82f7-b723a76774cb",
   "metadata": {},
   "outputs": [],
   "source": [
    "y1 = keras.utils.to_categorical(y, 2)"
   ]
  },
  {
   "cell_type": "code",
   "execution_count": 18,
   "id": "c7c8602e-fa74-4a6b-82be-b37ea18ba1b4",
   "metadata": {},
   "outputs": [],
   "source": [
    "X_train, X_validation, y_train, y_validation = sklearn.model_selection.train_test_split(X, y1, test_size=0.25, random_state=123)"
   ]
  },
  {
   "cell_type": "code",
   "execution_count": 19,
   "id": "b02a3cc8-b2d6-4dbc-9a7b-134196163c39",
   "metadata": {},
   "outputs": [],
   "source": [
    "X_test = create_test_data(TEST_DIR)"
   ]
  },
  {
   "cell_type": "markdown",
   "id": "738bc900-474e-40bb-8e0b-7a48c1a265e9",
   "metadata": {},
   "source": [
    "### Model 1"
   ]
  },
  {
   "cell_type": "markdown",
   "id": "03b8338d-6ceb-4a05-a29d-ae21666257ad",
   "metadata": {},
   "source": [
    "Model 1 is the base model that model 2 and 3 will iterate off of. With this first model, we have the input layer, and then two more layers with 3 x 3 kernel with max pooling in between each of the input layers and embedded layers. Lastly, we flatten the output and have a sigmoid activation with two options, 1 or 0.\n",
    "\n",
    "I use a early-stopping mechanism of validation loss increasing two epochs in a row."
   ]
  },
  {
   "cell_type": "markdown",
   "id": "98379aec-6a09-494c-8ab6-52ddb6f0f3e2",
   "metadata": {},
   "source": [
    "After training the model, I use the validation set to get an estimate of the F-Stat, accuracy, and recall for the test set. \n",
    "\n",
    "Looking at the confusion matrix, we see that we have roughly the same amount of correct guesses for cats and dogs and the same amount of incorrect guesses for both cats and dogs. The precision scores are the same between the two classes and the dog class has slightly better recall (.03). This is reflected in the F-Stat where the dog class has a score of .79 while the cat class has a score of .78. Overall, we see a ROC AUC of .79."
   ]
  },
  {
   "cell_type": "code",
   "execution_count": 20,
   "id": "da7eff72-970f-45bf-b769-bab50355dce8",
   "metadata": {},
   "outputs": [
    {
     "name": "stderr",
     "output_type": "stream",
     "text": [
      "2022-02-26 00:13:04.439291: I tensorflow/compiler/jit/xla_cpu_device.cc:41] Not creating XLA devices, tf_xla_enable_xla_devices not set\n",
      "2022-02-26 00:13:04.440145: I tensorflow/core/platform/cpu_feature_guard.cc:142] This TensorFlow binary is optimized with oneAPI Deep Neural Network Library (oneDNN) to use the following CPU instructions in performance-critical operations:  SSE4.1 SSE4.2 AVX AVX2 FMA\n",
      "To enable them in other operations, rebuild TensorFlow with the appropriate compiler flags.\n",
      "2022-02-26 00:13:04.442078: I tensorflow/core/common_runtime/process_util.cc:146] Creating new thread pool with default inter op setting: 2. Tune using inter_op_parallelism_threads for best performance.\n"
     ]
    }
   ],
   "source": [
    "model_1 = keras.models.Sequential([\n",
    "    keras.layers.Conv2D(32, (3, 3), input_shape=X.shape[1:], activation='relu'),\n",
    "    keras.layers.MaxPooling2D((2, 2)),\n",
    "    keras.layers.Conv2D(64, (3, 3), activation='relu'),\n",
    "    keras.layers.MaxPooling2D((2, 2)),\n",
    "    keras.layers.Conv2D(128, (3, 3), activation='relu'),\n",
    "    keras.layers.Flatten(),\n",
    "    keras.layers.Dense(256, activation='relu'),\n",
    "    keras.layers.Dense(2, activation='sigmoid')\n",
    "])"
   ]
  },
  {
   "cell_type": "code",
   "execution_count": 21,
   "id": "b702073c-a1a4-4e2a-a706-3b28968e36fc",
   "metadata": {},
   "outputs": [],
   "source": [
    "callback = tf.keras.callbacks.EarlyStopping(monitor='val_loss', patience=2)"
   ]
  },
  {
   "cell_type": "code",
   "execution_count": 22,
   "id": "cdeffb23-e4e9-4650-ae66-90d1b32d2aac",
   "metadata": {},
   "outputs": [],
   "source": [
    "model_1.compile(\n",
    "    optimizer='adam',\n",
    "    loss='binary_crossentropy',\n",
    "    metrics=['accuracy'])"
   ]
  },
  {
   "cell_type": "code",
   "execution_count": 23,
   "id": "1a7bc04d-d934-47d4-b419-6472440966b3",
   "metadata": {},
   "outputs": [
    {
     "name": "stderr",
     "output_type": "stream",
     "text": [
      "2022-02-26 00:13:05.384318: I tensorflow/compiler/mlir/mlir_graph_optimization_pass.cc:116] None of the MLIR optimization passes are enabled (registered 2)\n",
      "2022-02-26 00:13:05.388714: I tensorflow/core/platform/profile_utils/cpu_utils.cc:112] CPU Frequency: 2496005000 Hz\n"
     ]
    },
    {
     "name": "stdout",
     "output_type": "stream",
     "text": [
      "Epoch 1/30\n",
      "586/586 [==============================] - 194s 330ms/step - loss: 0.7126 - accuracy: 0.5583 - val_loss: 0.6021 - val_accuracy: 0.6685\n",
      "Epoch 2/30\n",
      "586/586 [==============================] - 183s 312ms/step - loss: 0.5513 - accuracy: 0.7159 - val_loss: 0.5204 - val_accuracy: 0.7368\n",
      "Epoch 3/30\n",
      "586/586 [==============================] - 190s 324ms/step - loss: 0.4577 - accuracy: 0.7803 - val_loss: 0.4723 - val_accuracy: 0.7723\n",
      "Epoch 4/30\n",
      "586/586 [==============================] - 187s 320ms/step - loss: 0.3654 - accuracy: 0.8334 - val_loss: 0.4960 - val_accuracy: 0.7763\n",
      "Epoch 5/30\n",
      "586/586 [==============================] - 189s 322ms/step - loss: 0.2452 - accuracy: 0.8989 - val_loss: 0.5452 - val_accuracy: 0.7893\n"
     ]
    }
   ],
   "source": [
    "history_model_1 = model_1.fit(X_train, y_train, epochs=30,\n",
    "                              validation_data=(X_validation, y_validation),\n",
    "                              callbacks=[callback])"
   ]
  },
  {
   "cell_type": "code",
   "execution_count": 24,
   "id": "5c75da6b-0746-47fd-b249-854fbc6acd4d",
   "metadata": {},
   "outputs": [
    {
     "data": {
      "image/png": "[encoded data removed]",
      "text/plain": [
       "<Figure size 576x360 with 1 Axes>"
      ]
     },
     "metadata": {
      "needs_background": "light"
     },
     "output_type": "display_data"
    }
   ],
   "source": [
    "pd.DataFrame(history_model_1.history).plot(figsize=(8, 5))\n",
    "plt.grid(True)\n",
    "plt.gca().set_ylim(0, 1)\n",
    "plt.show()"
   ]
  },
  {
   "cell_type": "code",
   "execution_count": 25,
   "id": "1dbed10d-4f1a-4d51-92dc-b11a5aa445d9",
   "metadata": {},
   "outputs": [],
   "source": [
    "probability_model_1 = tf.keras.Sequential([model_1, tf.keras.layers.Softmax()])"
   ]
  },
  {
   "cell_type": "code",
   "execution_count": 26,
   "id": "aaf4d9d5-7a6b-44ea-9209-48a5fe4353e1",
   "metadata": {},
   "outputs": [],
   "source": [
    "predictions_model_1 = probability_model_1.predict(X_validation)"
   ]
  },
  {
   "cell_type": "code",
   "execution_count": 27,
   "id": "4493eed6-9ba5-47d5-ba69-dfcd7fdde0bf",
   "metadata": {},
   "outputs": [],
   "source": [
    "predictions_model_1_list = []\n",
    "for i in range(0, len(predictions_model_1)):\n",
    "    predictions_model_1_list.append(np.argmax(predictions_model_1[i]))"
   ]
  },
  {
   "cell_type": "code",
   "execution_count": 28,
   "id": "3ae93c64-2575-4a6b-baf1-a68ae095e3e7",
   "metadata": {},
   "outputs": [
    {
     "data": {
      "text/plain": [
       "<AxesSubplot:>"
      ]
     },
     "execution_count": 28,
     "metadata": {},
     "output_type": "execute_result"
    },
    {
     "data": {
      "image/png": "[encoded data removed]",
      "text/plain": [
       "<Figure size 432x288 with 2 Axes>"
      ]
     },
     "metadata": {
      "needs_background": "light"
     },
     "output_type": "display_data"
    }
   ],
   "source": [
    "# confusion matrix\n",
    "cm_model_1 = sklearn.metrics.confusion_matrix(np.argmax(y_validation, axis = 1), predictions_model_1_list)\n",
    "\n",
    "sns.heatmap(cm_model_1, annot=True, fmt='d', cmap=\"Blues\")"
   ]
  },
  {
   "cell_type": "code",
   "execution_count": 29,
   "id": "4aedb660-6f22-4c47-af2c-796bf6335a13",
   "metadata": {},
   "outputs": [
    {
     "name": "stdout",
     "output_type": "stream",
     "text": [
      "              precision    recall  f1-score   support\n",
      "\n",
      "           0       0.79      0.77      0.78      3085\n",
      "           1       0.79      0.80      0.79      3165\n",
      "\n",
      "    accuracy                           0.79      6250\n",
      "   macro avg       0.79      0.79      0.79      6250\n",
      "weighted avg       0.79      0.79      0.79      6250\n",
      "\n"
     ]
    }
   ],
   "source": [
    "# goodness of fit metrics\n",
    "print(classification_report(np.argmax(y_validation, axis = 1), predictions_model_1_list))"
   ]
  },
  {
   "cell_type": "code",
   "execution_count": 42,
   "id": "cd5a0ac3-236d-44ad-afce-f4e329b37c6c",
   "metadata": {},
   "outputs": [],
   "source": [
    "# ROC\n",
    "fpr, tpr, thresholds = roc_curve(np.argmax(y_validation, axis = 1), predictions_model_1_list)\n",
    "roc_auc = auc(fpr, tpr)\n",
    "display = RocCurveDisplay(fpr=fpr, tpr=tpr, roc_auc=roc_auc,\n",
    "                                  estimator_name='Model 1')"
   ]
  },
  {
   "cell_type": "code",
   "execution_count": 43,
   "id": "c57ff093-e437-4a69-9f8a-9a27b0b90952",
   "metadata": {},
   "outputs": [
    {
     "data": {
      "image/png": "[encoded data removed]",
      "text/plain": [
       "<Figure size 432x288 with 1 Axes>"
      ]
     },
     "metadata": {
      "needs_background": "light"
     },
     "output_type": "display_data"
    }
   ],
   "source": [
    "display.plot()\n",
    "plt.show()"
   ]
  },
  {
   "cell_type": "code",
   "execution_count": 44,
   "id": "5d87c8df-8478-42d8-b39c-ec7e0f6105f9",
   "metadata": {},
   "outputs": [
    {
     "data": {
      "image/png": "[encoded data removed]",
      "text/plain": [
       "<Figure size 432x288 with 1 Axes>"
      ]
     },
     "metadata": {
      "needs_background": "light"
     },
     "output_type": "display_data"
    }
   ],
   "source": [
    "# Precision-Recall\n",
    "display = PrecisionRecallDisplay.from_predictions(np.argmax(y_validation, axis = 1), predictions_model_1_list, name=\"Model 1\")\n",
    "_ = display.ax_.set_title(\"2-class Precision-Recall curve\")"
   ]
  },
  {
   "cell_type": "code",
   "execution_count": 30,
   "id": "0ec4455f-45a3-48f6-a799-0e8c7f008880",
   "metadata": {},
   "outputs": [],
   "source": [
    "# test predictions\n",
    "test_predictions_model_1 = probability_model_1.predict(X_test)"
   ]
  },
  {
   "cell_type": "code",
   "execution_count": 31,
   "id": "b63fdf6b-359a-4324-925c-cc40baa81b82",
   "metadata": {},
   "outputs": [],
   "source": [
    "test_predictions_model_1_list = []\n",
    "for i in range(0, len(test_predictions_model_1)):\n",
    "    test_predictions_model_1_list.append(test_predictions_model_1[i][0])"
   ]
  },
  {
   "cell_type": "code",
   "execution_count": 33,
   "id": "28ff922f-30c1-40ad-8734-d2182249741a",
   "metadata": {},
   "outputs": [],
   "source": [
    "os.chdir('/mnt/c/Users/jwnha/Documents/_School/MSDS/2022 Winter/Machine Learning/Week 8/cnn-identify-dogs-v-cats/submissions/')"
   ]
  },
  {
   "cell_type": "code",
   "execution_count": 34,
   "id": "a2736087-4360-4dc1-958f-51074cf372e0",
   "metadata": {},
   "outputs": [],
   "source": [
    "Id = []\n",
    "for i in range(1, len(test_predictions_model_1_list) + 1):\n",
    "    Id.append(i)\n",
    "\n",
    "m1_sub = pd.DataFrame(list(zip(Id, test_predictions_model_1_list)), columns = ['id', 'label'])\n",
    "m1_sub.to_csv('model 1 submission.csv', index = False)"
   ]
  },
  {
   "cell_type": "markdown",
   "id": "c4e5a2c8-2982-4841-9e7b-98e80593a6d5",
   "metadata": {},
   "source": [
    "### Model 2"
   ]
  },
  {
   "cell_type": "markdown",
   "id": "afa161b1-1bfa-4921-bfe6-5219d3080857",
   "metadata": {},
   "source": [
    "For model 2, I use model 1 as the base but add in an additional convolutional layer and max pooling layer before flattening.\n",
    "\n",
    "I still use an early-stopping mechanism of validation loss increasing two epochs in a row."
   ]
  },
  {
   "cell_type": "markdown",
   "id": "4c202801-b92f-433e-8cc5-28eab21fe61f",
   "metadata": {},
   "source": [
    "After training the model, I use the validation set to get an estimate of the F-Stat, accuracy, and recall for the test set. \n",
    "\n",
    "Looking at the confusion matrix, we see that we correctly guess a greater amount of cats than dog pictures as there is a substantial drop in incorrect cat guesses from model 1 but incorrect dog guesses stayed constant. What is interesting is that the dog class has better precision by .08 but the cat class has better accuracy by .09. These differences offset and we have F-Stat scores that are close, .87 for the cat class and .86 for the dog class. By these metrics model 2 is an improvement over model 1. Overall, we see a ROC AUC of .87."
   ]
  },
  {
   "cell_type": "code",
   "execution_count": 35,
   "id": "f462c787-8d5b-40ae-bf1e-8f3e641b60ee",
   "metadata": {},
   "outputs": [],
   "source": [
    "model_2 = keras.models.Sequential([\n",
    "    keras.layers.Conv2D(32, (3, 3), input_shape=X.shape[1:], activation='relu'),\n",
    "    keras.layers.MaxPooling2D((2, 2)),\n",
    "    keras.layers.Conv2D(64, (3, 3), activation='relu'),\n",
    "    keras.layers.MaxPooling2D((2, 2)),\n",
    "    keras.layers.Conv2D(128, (3, 3), activation='relu'),\n",
    "    keras.layers.MaxPooling2D((2, 2)),\n",
    "    keras.layers.Conv2D(256, (3, 3), activation='relu'),\n",
    "    keras.layers.MaxPooling2D((2, 2)),\n",
    "    keras.layers.Flatten(),\n",
    "    keras.layers.Dense(256, activation='relu'),\n",
    "    keras.layers.Dense(2, activation='sigmoid')\n",
    "])"
   ]
  },
  {
   "cell_type": "code",
   "execution_count": 36,
   "id": "83bc5d79-da79-4048-8867-2f7c1dc3db45",
   "metadata": {},
   "outputs": [],
   "source": [
    "callback = tf.keras.callbacks.EarlyStopping(monitor='val_loss', patience=2)"
   ]
  },
  {
   "cell_type": "code",
   "execution_count": 37,
   "id": "434a0891-25b6-40a8-a4f0-d4d9073a06b4",
   "metadata": {},
   "outputs": [],
   "source": [
    "model_2.compile(\n",
    "    optimizer='adam',\n",
    "    loss='binary_crossentropy',\n",
    "    metrics=['accuracy'])"
   ]
  },
  {
   "cell_type": "code",
   "execution_count": 38,
   "id": "83485023-8c4b-4640-8f23-a5f75bad66d6",
   "metadata": {},
   "outputs": [
    {
     "name": "stdout",
     "output_type": "stream",
     "text": [
      "Epoch 1/30\n",
      "586/586 [==============================] - 180s 307ms/step - loss: 0.6829 - accuracy: 0.5501 - val_loss: 0.5770 - val_accuracy: 0.7112\n",
      "Epoch 2/30\n",
      "586/586 [==============================] - 185s 316ms/step - loss: 0.5358 - accuracy: 0.7295 - val_loss: 0.4625 - val_accuracy: 0.7854\n",
      "Epoch 3/30\n",
      "586/586 [==============================] - 190s 325ms/step - loss: 0.4002 - accuracy: 0.8191 - val_loss: 0.3841 - val_accuracy: 0.8277\n",
      "Epoch 4/30\n",
      "586/586 [==============================] - 158s 269ms/step - loss: 0.3310 - accuracy: 0.8559 - val_loss: 0.3620 - val_accuracy: 0.8370\n",
      "Epoch 5/30\n",
      "586/586 [==============================] - 174s 297ms/step - loss: 0.2670 - accuracy: 0.8843 - val_loss: 0.3138 - val_accuracy: 0.8661\n",
      "Epoch 6/30\n",
      "586/586 [==============================] - 179s 306ms/step - loss: 0.2088 - accuracy: 0.9108 - val_loss: 0.3165 - val_accuracy: 0.8680\n",
      "Epoch 7/30\n",
      "586/586 [==============================] - 150s 256ms/step - loss: 0.1497 - accuracy: 0.9388 - val_loss: 0.3369 - val_accuracy: 0.8654\n"
     ]
    }
   ],
   "source": [
    "history_model_2 = model_2.fit(X_train, y_train, epochs=30,\n",
    "                              validation_data=(X_validation, y_validation),\n",
    "                              callbacks=[callback])"
   ]
  },
  {
   "cell_type": "code",
   "execution_count": 45,
   "id": "90839705-79ca-4c69-823d-3caa487832e6",
   "metadata": {},
   "outputs": [
    {
     "data": {
      "image/png": "[encoded data removed]",
      "text/plain": [
       "<Figure size 576x360 with 1 Axes>"
      ]
     },
     "metadata": {
      "needs_background": "light"
     },
     "output_type": "display_data"
    }
   ],
   "source": [
    "pd.DataFrame(history_model_2.history).plot(figsize=(8, 5))\n",
    "plt.grid(True)\n",
    "plt.gca().set_ylim(0, 1)\n",
    "plt.show()"
   ]
  },
  {
   "cell_type": "code",
   "execution_count": 46,
   "id": "8f15e305-c8a5-43b9-897b-4099cb7bae8e",
   "metadata": {},
   "outputs": [],
   "source": [
    "probability_model_2 = tf.keras.Sequential([model_2, tf.keras.layers.Softmax()])"
   ]
  },
  {
   "cell_type": "code",
   "execution_count": 47,
   "id": "426cc858-208c-4d33-9eb2-403f4d5357ba",
   "metadata": {},
   "outputs": [],
   "source": [
    "predictions_model_2 = probability_model_2.predict(X_validation)"
   ]
  },
  {
   "cell_type": "code",
   "execution_count": 48,
   "id": "027929e8-c043-4c28-8d47-8351f47fd240",
   "metadata": {},
   "outputs": [],
   "source": [
    "predictions_model_2_list = []\n",
    "for i in range(0, len(predictions_model_2)):\n",
    "    predictions_model_2_list.append(np.argmax(predictions_model_2[i]))"
   ]
  },
  {
   "cell_type": "code",
   "execution_count": 49,
   "id": "f5b3de9c-fcc5-4d4a-8716-2ceea7ddda59",
   "metadata": {},
   "outputs": [
    {
     "data": {
      "text/plain": [
       "<AxesSubplot:>"
      ]
     },
     "execution_count": 49,
     "metadata": {},
     "output_type": "execute_result"
    },
    {
     "data": {
      "image/png": "[encoded data removed]",
      "text/plain": [
       "<Figure size 432x288 with 2 Axes>"
      ]
     },
     "metadata": {
      "needs_background": "light"
     },
     "output_type": "display_data"
    }
   ],
   "source": [
    "# confusion matrix\n",
    "cm_model_2 = sklearn.metrics.confusion_matrix(np.argmax(y_validation, axis = 1), predictions_model_2_list)\n",
    "\n",
    "sns.heatmap(cm_model_2, annot=True, fmt='d', cmap=\"Blues\")"
   ]
  },
  {
   "cell_type": "code",
   "execution_count": 50,
   "id": "e6b4cd77-0835-42ff-a959-ea6dca55ca51",
   "metadata": {},
   "outputs": [
    {
     "name": "stdout",
     "output_type": "stream",
     "text": [
      "              precision    recall  f1-score   support\n",
      "\n",
      "           0       0.83      0.91      0.87      3085\n",
      "           1       0.91      0.82      0.86      3165\n",
      "\n",
      "    accuracy                           0.87      6250\n",
      "   macro avg       0.87      0.87      0.87      6250\n",
      "weighted avg       0.87      0.87      0.87      6250\n",
      "\n"
     ]
    }
   ],
   "source": [
    "# goodness of fit metrics\n",
    "print(classification_report(np.argmax(y_validation, axis = 1), predictions_model_2_list))"
   ]
  },
  {
   "cell_type": "code",
   "execution_count": 51,
   "id": "2a46a645-937c-492b-b95f-51996192b64f",
   "metadata": {},
   "outputs": [],
   "source": [
    "# ROC\n",
    "fpr, tpr, thresholds = roc_curve(np.argmax(y_validation, axis = 1), predictions_model_2_list)\n",
    "roc_auc = auc(fpr, tpr)\n",
    "display = RocCurveDisplay(fpr=fpr, tpr=tpr, roc_auc=roc_auc,\n",
    "                                  estimator_name='Model 2')"
   ]
  },
  {
   "cell_type": "code",
   "execution_count": 52,
   "id": "904200ef-e423-441b-ad2b-ac72cdaf5a9f",
   "metadata": {},
   "outputs": [
    {
     "data": {
      "image/png": "[encoded data removed]",
      "text/plain": [
       "<Figure size 432x288 with 1 Axes>"
      ]
     },
     "metadata": {
      "needs_background": "light"
     },
     "output_type": "display_data"
    }
   ],
   "source": [
    "display.plot()\n",
    "plt.show()"
   ]
  },
  {
   "cell_type": "code",
   "execution_count": 53,
   "id": "82b1f1f0-e3a6-4d95-bc40-62a151cd8dde",
   "metadata": {},
   "outputs": [
    {
     "data": {
      "image/png": "[encoded data removed]",
      "text/plain": [
       "<Figure size 432x288 with 1 Axes>"
      ]
     },
     "metadata": {
      "needs_background": "light"
     },
     "output_type": "display_data"
    }
   ],
   "source": [
    "# Precision-Recall\n",
    "display = PrecisionRecallDisplay.from_predictions(np.argmax(y_validation, axis = 1), predictions_model_2_list, name=\"Model 2\")\n",
    "_ = display.ax_.set_title(\"2-class Precision-Recall curve\")"
   ]
  },
  {
   "cell_type": "code",
   "execution_count": 54,
   "id": "2506e26e-a866-44b0-a254-31ab8e7f9c5e",
   "metadata": {},
   "outputs": [],
   "source": [
    "# test predictions\n",
    "test_predictions_model_2 = probability_model_2.predict(X_test)"
   ]
  },
  {
   "cell_type": "code",
   "execution_count": 55,
   "id": "7c8a2815-8659-4fc3-8ffa-dfe132f1f498",
   "metadata": {},
   "outputs": [],
   "source": [
    "test_predictions_model_2_list = []\n",
    "for i in range(0, len(test_predictions_model_2)):\n",
    "    test_predictions_model_2_list.append(test_predictions_model_2[i][0])"
   ]
  },
  {
   "cell_type": "code",
   "execution_count": 56,
   "id": "9d3d23ea-2446-4c58-a7c8-dc20053100b1",
   "metadata": {},
   "outputs": [],
   "source": [
    "Id = []\n",
    "for i in range(1, len(test_predictions_model_2_list) + 1):\n",
    "    Id.append(i)\n",
    "\n",
    "m2_sub = pd.DataFrame(list(zip(Id, test_predictions_model_2_list)), columns = ['id', 'label'])\n",
    "m2_sub.to_csv('model 2 submission.csv', index = False)"
   ]
  },
  {
   "cell_type": "markdown",
   "id": "bd6fce75-99aa-4001-b223-4bd97556ffa9",
   "metadata": {},
   "source": [
    "### Model 3"
   ]
  },
  {
   "cell_type": "markdown",
   "id": "f342092b-e396-4713-b4c8-b59979223716",
   "metadata": {},
   "source": [
    "In model 3, I use model 2 as the base but add in drop-out layers after each pooling layer. This method helps decrease the overfitting since we lose information through the drop-out. Thus I extend the number of epochs with validation loss to four (from 2) since the expectation is that it will take longer to train the RNN."
   ]
  },
  {
   "cell_type": "markdown",
   "id": "882526d5-0707-4237-be7d-a6463e8f032c",
   "metadata": {},
   "source": [
    "After training the model, I use the validation set to get an estimate of the F-Stat, accuracy, and recall for the test set. \n",
    "\n",
    "Looking at the confusion matrix, we see a similar pattern as in model 2. The model correctly guesses a greater amount of cats than dog pictures. What is interesting is that the dog class has better precision by .06 but the cat class has better accuracy by .09. These differences offset and we have F-Stat scores that are close, .88 for the cat class and .87 for the dog class. All of these scores are better than model 2 by a margin of roughly .01. By these metrics model 3 is a slight improvement over model 2. Overall, we see a ROC AUC of .87 which is the same as model 2."
   ]
  },
  {
   "cell_type": "code",
   "execution_count": 57,
   "id": "876de119-2b3d-4bca-9008-c3c7a83d18fd",
   "metadata": {},
   "outputs": [],
   "source": [
    "model_3 = keras.models.Sequential([\n",
    "    keras.layers.Conv2D(32, (3, 3), input_shape=X.shape[1:], activation='relu'),\n",
    "    keras.layers.MaxPooling2D((2, 2)),\n",
    "    keras.layers.Dropout(0.5),\n",
    "    keras.layers.Conv2D(64, (3, 3), activation='relu'),\n",
    "    keras.layers.MaxPooling2D((2, 2)),\n",
    "    keras.layers.Dropout(0.5),\n",
    "    keras.layers.Conv2D(128, (3, 3), activation='relu'),\n",
    "    keras.layers.MaxPooling2D((2, 2)),\n",
    "    keras.layers.Dropout(0.5),\n",
    "    keras.layers.Conv2D(256, (3, 3), activation='relu'),\n",
    "    keras.layers.MaxPooling2D((2, 2)),\n",
    "    keras.layers.Dropout(0.5),\n",
    "    keras.layers.Flatten(),\n",
    "    keras.layers.Dense(256, activation='relu'),\n",
    "    keras.layers.Dropout(0.5),\n",
    "    keras.layers.Dense(2, activation='sigmoid')\n",
    "])"
   ]
  },
  {
   "cell_type": "code",
   "execution_count": 58,
   "id": "a66f1739-3bf1-4a80-bd8a-0a38dc4ec912",
   "metadata": {},
   "outputs": [],
   "source": [
    "callback = tf.keras.callbacks.EarlyStopping(monitor='val_loss', patience=4)"
   ]
  },
  {
   "cell_type": "code",
   "execution_count": 59,
   "id": "3023e19b-81be-4c97-b5ea-c9b9fb74052d",
   "metadata": {},
   "outputs": [],
   "source": [
    "model_3.compile(\n",
    "    optimizer='adam',\n",
    "    loss='binary_crossentropy',\n",
    "    metrics=['accuracy'])"
   ]
  },
  {
   "cell_type": "code",
   "execution_count": 60,
   "id": "45c623ba-0e90-4cfc-8e6c-a461cb5f7b0d",
   "metadata": {},
   "outputs": [
    {
     "name": "stdout",
     "output_type": "stream",
     "text": [
      "Epoch 1/30\n",
      "586/586 [==============================] - 212s 360ms/step - loss: 0.7012 - accuracy: 0.5081 - val_loss: 0.6949 - val_accuracy: 0.4936\n",
      "Epoch 2/30\n",
      "586/586 [==============================] - 207s 354ms/step - loss: 0.6891 - accuracy: 0.5389 - val_loss: 0.6443 - val_accuracy: 0.6354\n",
      "Epoch 3/30\n",
      "586/586 [==============================] - 209s 356ms/step - loss: 0.6420 - accuracy: 0.6332 - val_loss: 0.6156 - val_accuracy: 0.6595\n",
      "Epoch 4/30\n",
      "586/586 [==============================] - 212s 362ms/step - loss: 0.5694 - accuracy: 0.7041 - val_loss: 0.5387 - val_accuracy: 0.7195\n",
      "Epoch 5/30\n",
      "586/586 [==============================] - 211s 360ms/step - loss: 0.5279 - accuracy: 0.7372 - val_loss: 0.5191 - val_accuracy: 0.7357\n",
      "Epoch 6/30\n",
      "586/586 [==============================] - 209s 357ms/step - loss: 0.5063 - accuracy: 0.7546 - val_loss: 0.5102 - val_accuracy: 0.7395\n",
      "Epoch 7/30\n",
      "586/586 [==============================] - 210s 358ms/step - loss: 0.4747 - accuracy: 0.7763 - val_loss: 0.5358 - val_accuracy: 0.7296\n",
      "Epoch 8/30\n",
      "586/586 [==============================] - 233s 398ms/step - loss: 0.4626 - accuracy: 0.7783 - val_loss: 0.5379 - val_accuracy: 0.7254\n",
      "Epoch 9/30\n",
      "586/586 [==============================] - 225s 384ms/step - loss: 0.4321 - accuracy: 0.8008 - val_loss: 0.4215 - val_accuracy: 0.8013\n",
      "Epoch 10/30\n",
      "586/586 [==============================] - 207s 354ms/step - loss: 0.4238 - accuracy: 0.8047 - val_loss: 0.4492 - val_accuracy: 0.7810\n",
      "Epoch 11/30\n",
      "586/586 [==============================] - 208s 354ms/step - loss: 0.4043 - accuracy: 0.8129 - val_loss: 0.4148 - val_accuracy: 0.8067\n",
      "Epoch 12/30\n",
      "586/586 [==============================] - 212s 361ms/step - loss: 0.3959 - accuracy: 0.8226 - val_loss: 0.3784 - val_accuracy: 0.8262\n",
      "Epoch 13/30\n",
      "586/586 [==============================] - 214s 365ms/step - loss: 0.3986 - accuracy: 0.8189 - val_loss: 0.3750 - val_accuracy: 0.8323\n",
      "Epoch 14/30\n",
      "586/586 [==============================] - 208s 355ms/step - loss: 0.3899 - accuracy: 0.8237 - val_loss: 0.4058 - val_accuracy: 0.8056\n",
      "Epoch 15/30\n",
      "586/586 [==============================] - 210s 359ms/step - loss: 0.3716 - accuracy: 0.8394 - val_loss: 0.3817 - val_accuracy: 0.8186\n",
      "Epoch 16/30\n",
      "586/586 [==============================] - 205s 350ms/step - loss: 0.3601 - accuracy: 0.8435 - val_loss: 0.3310 - val_accuracy: 0.8541\n",
      "Epoch 17/30\n",
      "586/586 [==============================] - 229s 391ms/step - loss: 0.3602 - accuracy: 0.8435 - val_loss: 0.3557 - val_accuracy: 0.8424\n",
      "Epoch 18/30\n",
      "586/586 [==============================] - 226s 386ms/step - loss: 0.3574 - accuracy: 0.8398 - val_loss: 0.3306 - val_accuracy: 0.8618\n",
      "Epoch 19/30\n",
      "586/586 [==============================] - 213s 363ms/step - loss: 0.3403 - accuracy: 0.8530 - val_loss: 0.3129 - val_accuracy: 0.8654\n",
      "Epoch 20/30\n",
      "586/586 [==============================] - 210s 359ms/step - loss: 0.3458 - accuracy: 0.8490 - val_loss: 0.3670 - val_accuracy: 0.8296\n",
      "Epoch 21/30\n",
      "586/586 [==============================] - 210s 358ms/step - loss: 0.3440 - accuracy: 0.8531 - val_loss: 0.3069 - val_accuracy: 0.8746\n",
      "Epoch 22/30\n",
      "586/586 [==============================] - 205s 351ms/step - loss: 0.3206 - accuracy: 0.8634 - val_loss: 0.3072 - val_accuracy: 0.8744\n",
      "Epoch 23/30\n",
      "586/586 [==============================] - 213s 363ms/step - loss: 0.3235 - accuracy: 0.8585 - val_loss: 0.3051 - val_accuracy: 0.8715\n",
      "Epoch 24/30\n",
      "586/586 [==============================] - 208s 355ms/step - loss: 0.3175 - accuracy: 0.8634 - val_loss: 0.3383 - val_accuracy: 0.8445\n",
      "Epoch 25/30\n",
      "586/586 [==============================] - 211s 360ms/step - loss: 0.3101 - accuracy: 0.8696 - val_loss: 0.3053 - val_accuracy: 0.8690\n",
      "Epoch 26/30\n",
      "586/586 [==============================] - 217s 370ms/step - loss: 0.3148 - accuracy: 0.8654 - val_loss: 0.2957 - val_accuracy: 0.8771\n",
      "Epoch 27/30\n",
      "586/586 [==============================] - 212s 362ms/step - loss: 0.3015 - accuracy: 0.8677 - val_loss: 0.3075 - val_accuracy: 0.8691\n",
      "Epoch 28/30\n",
      "586/586 [==============================] - 209s 356ms/step - loss: 0.3010 - accuracy: 0.8684 - val_loss: 0.3044 - val_accuracy: 0.8718\n",
      "Epoch 29/30\n",
      "586/586 [==============================] - 210s 358ms/step - loss: 0.2849 - accuracy: 0.8812 - val_loss: 0.2746 - val_accuracy: 0.8910\n",
      "Epoch 30/30\n",
      "586/586 [==============================] - 211s 360ms/step - loss: 0.3012 - accuracy: 0.8705 - val_loss: 0.2946 - val_accuracy: 0.8736\n"
     ]
    }
   ],
   "source": [
    "history_model_3 = model_3.fit(X_train, y_train, epochs=30,\n",
    "                              validation_data=(X_validation, y_validation),\n",
    "                              callbacks=[callback])"
   ]
  },
  {
   "cell_type": "code",
   "execution_count": 61,
   "id": "bf674ae7-9bd2-4d3c-859f-2b2d01c9ae04",
   "metadata": {},
   "outputs": [
    {
     "data": {
      "image/png": "[encoded data removed]",
      "text/plain": [
       "<Figure size 576x360 with 1 Axes>"
      ]
     },
     "metadata": {
      "needs_background": "light"
     },
     "output_type": "display_data"
    }
   ],
   "source": [
    "pd.DataFrame(history_model_3.history).plot(figsize=(8, 5))\n",
    "plt.grid(True)\n",
    "plt.gca().set_ylim(0, 1)\n",
    "plt.show()"
   ]
  },
  {
   "cell_type": "code",
   "execution_count": 62,
   "id": "7ea767bc-3343-4099-be39-5d603e833515",
   "metadata": {},
   "outputs": [],
   "source": [
    "probability_model_3 = tf.keras.Sequential([model_3, tf.keras.layers.Softmax()])"
   ]
  },
  {
   "cell_type": "code",
   "execution_count": 63,
   "id": "8ef91cf7-bb15-4c1a-b12e-9b510b12a6e2",
   "metadata": {},
   "outputs": [],
   "source": [
    "predictions_model_3 = probability_model_3.predict(X_validation)"
   ]
  },
  {
   "cell_type": "code",
   "execution_count": 64,
   "id": "b5fed2aa-4ab3-4b6a-922c-8b2697e1d88f",
   "metadata": {},
   "outputs": [],
   "source": [
    "predictions_model_3_list = []\n",
    "for i in range(0, len(predictions_model_3)):\n",
    "    predictions_model_3_list.append(np.argmax(predictions_model_3[i]))"
   ]
  },
  {
   "cell_type": "code",
   "execution_count": 65,
   "id": "ef3ef0d1-ef52-4b9a-a6f4-e000968d00b2",
   "metadata": {},
   "outputs": [
    {
     "data": {
      "text/plain": [
       "<AxesSubplot:>"
      ]
     },
     "execution_count": 65,
     "metadata": {},
     "output_type": "execute_result"
    },
    {
     "data": {
      "image/png": "[encoded data removed]",
      "text/plain": [
       "<Figure size 432x288 with 2 Axes>"
      ]
     },
     "metadata": {
      "needs_background": "light"
     },
     "output_type": "display_data"
    }
   ],
   "source": [
    "# confusion matrix\n",
    "cm_model_3 = sklearn.metrics.confusion_matrix(np.argmax(y_validation, axis = 1), predictions_model_3_list)\n",
    "\n",
    "sns.heatmap(cm_model_3, annot=True, fmt='d', cmap=\"Blues\")"
   ]
  },
  {
   "cell_type": "code",
   "execution_count": 66,
   "id": "fc972ae9-145e-4603-823b-59f3e4647982",
   "metadata": {},
   "outputs": [
    {
     "name": "stdout",
     "output_type": "stream",
     "text": [
      "              precision    recall  f1-score   support\n",
      "\n",
      "           0       0.84      0.92      0.88      3085\n",
      "           1       0.92      0.83      0.87      3165\n",
      "\n",
      "    accuracy                           0.87      6250\n",
      "   macro avg       0.88      0.87      0.87      6250\n",
      "weighted avg       0.88      0.87      0.87      6250\n",
      "\n"
     ]
    }
   ],
   "source": [
    "# goodness of fit metrics\n",
    "print(classification_report(np.argmax(y_validation, axis = 1), predictions_model_3_list))"
   ]
  },
  {
   "cell_type": "code",
   "execution_count": 67,
   "id": "0a15a036-925c-4138-9556-d37a8cdd6613",
   "metadata": {},
   "outputs": [],
   "source": [
    "# ROC\n",
    "fpr, tpr, thresholds = roc_curve(np.argmax(y_validation, axis = 1), predictions_model_3_list)\n",
    "roc_auc = auc(fpr, tpr)\n",
    "display = RocCurveDisplay(fpr=fpr, tpr=tpr, roc_auc=roc_auc,\n",
    "                                  estimator_name='Model 3')"
   ]
  },
  {
   "cell_type": "code",
   "execution_count": 68,
   "id": "02c253bd-ac46-47ee-b39b-6f947e4f1075",
   "metadata": {},
   "outputs": [
    {
     "data": {
      "image/png": "[encoded data removed]",
      "text/plain": [
       "<Figure size 432x288 with 1 Axes>"
      ]
     },
     "metadata": {
      "needs_background": "light"
     },
     "output_type": "display_data"
    }
   ],
   "source": [
    "display.plot()\n",
    "plt.show()"
   ]
  },
  {
   "cell_type": "code",
   "execution_count": 69,
   "id": "721a5daf-727a-4bef-a5cb-08fe81b062c3",
   "metadata": {},
   "outputs": [
    {
     "data": {
      "image/png": "[encoded data removed]",
      "text/plain": [
       "<Figure size 432x288 with 1 Axes>"
      ]
     },
     "metadata": {
      "needs_background": "light"
     },
     "output_type": "display_data"
    }
   ],
   "source": [
    "# Precision-Recall\n",
    "display = PrecisionRecallDisplay.from_predictions(np.argmax(y_validation, axis = 1), predictions_model_3_list, name=\"Model 3\")\n",
    "_ = display.ax_.set_title(\"2-class Precision-Recall curve\")"
   ]
  },
  {
   "cell_type": "code",
   "execution_count": 70,
   "id": "ec08a982-7c3f-4af1-9bb7-f9496ead1709",
   "metadata": {},
   "outputs": [],
   "source": [
    "# test predictions\n",
    "test_predictions_model_3 = probability_model_3.predict(X_test)"
   ]
  },
  {
   "cell_type": "code",
   "execution_count": 71,
   "id": "5f594db4-dc97-4d36-87cd-8dbbc21bb80e",
   "metadata": {},
   "outputs": [],
   "source": [
    "test_predictions_model_3_list = []\n",
    "for i in range(0, len(test_predictions_model_3)):\n",
    "    test_predictions_model_3_list.append(test_predictions_model_3[i][0])"
   ]
  },
  {
   "cell_type": "code",
   "execution_count": 72,
   "id": "43c27404-db2b-4f84-9148-f86b2dd7bfc4",
   "metadata": {},
   "outputs": [],
   "source": [
    "Id = []\n",
    "for i in range(1, len(test_predictions_model_3_list) + 1):\n",
    "    Id.append(i)\n",
    "\n",
    "m3_sub = pd.DataFrame(list(zip(Id, test_predictions_model_3_list)), columns = ['id', 'label'])\n",
    "m3_sub.to_csv('model 3 submission.csv', index = False)"
   ]
  },
  {
   "cell_type": "markdown",
   "id": "565b96c9-1e28-4b37-b77b-5c2622f6bfc9",
   "metadata": {},
   "source": [
    "## Conclusion"
   ]
  },
  {
   "cell_type": "markdown",
   "id": "ca98af33-2ee6-4980-93ef-b2cf7cd62143",
   "metadata": {},
   "source": [
    "While initially from the validation set it appeared Model 3 was slightly better than Model 2, in the end Model 3 was the winner, with Model 1 be slightly less good. This showed that using a drop-out layer after each pooling layer helped the model not over-fit on the training data. Something to check would be to change the early stopping to 4 straight epochs of an increase in validation loss for Model 1 and Model 2 and see if the log loss score improves. This would indicate that training was cut-off early for these models rather than the drop-out layers added in Model 3. "
   ]
  },
  {
   "cell_type": "markdown",
   "id": "2e3ed716-f75a-4447-a572-6e90feb60e06",
   "metadata": {},
   "source": [
    "### Results Table\n",
    "| Metric | Model 1 | Model 2 | Model 3 |\n",
    "|---     | ---     | ---     | ---     |\n",
    "| Validation Accuracy | 0.79 | 0.87 | 0.87 | \n",
    "| Test Log Loss | 0.77 | 0.78 | 0.76 |"
   ]
  },
  {
   "cell_type": "code",
   "execution_count": null,
   "id": "88127c73-af12-426b-b574-7162e0c2979f",
   "metadata": {},
   "outputs": [],
   "source": []
  }
 ],
 "metadata": {
  "kernelspec": {
   "display_name": "Python 3 (ipykernel)",
   "language": "python",
   "name": "python3"
  },
  "language_info": {
   "codemirror_mode": {
    "name": "ipython",
    "version": 3
   },
   "file_extension": ".py",
   "mimetype": "text/x-python",
   "name": "python",
   "nbconvert_exporter": "python",
   "pygments_lexer": "ipython3",
   "version": "3.9.9"
  }
 },
 "nbformat": 4,
 "nbformat_minor": 5
}
